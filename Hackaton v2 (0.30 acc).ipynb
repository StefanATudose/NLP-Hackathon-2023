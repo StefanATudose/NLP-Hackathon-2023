{
  "cells": [
    {
      "cell_type": "markdown",
      "metadata": {
        "id": "view-in-github",
        "colab_type": "text"
      },
      "source": [
        "<a href=\"https://colab.research.google.com/github/StefanATudose/NLP-Hackathon-2023/blob/main/Hackaton%20v2%20(0.30%20acc).ipynb\" target=\"_parent\"><img src=\"https://colab.research.google.com/assets/colab-badge.svg\" alt=\"Open In Colab\"/></a>"
      ]
    },
    {
      "cell_type": "markdown",
      "metadata": {
        "id": "si8wtdS_g0nd"
      },
      "source": [
        "# Setup"
      ]
    },
    {
      "cell_type": "code",
      "execution_count": 8,
      "metadata": {
        "colab": {
          "base_uri": "https://localhost:8080/"
        },
        "id": "cIwB8zYO7ZeO",
        "outputId": "ec40c4ef-7705-43f6-bfaf-fe10a68b6ef6"
      },
      "outputs": [
        {
          "output_type": "stream",
          "name": "stdout",
          "text": [
            "Looking in indexes: https://pypi.org/simple, https://us-python.pkg.dev/colab-wheels/public/simple/\n",
            "Requirement already satisfied: nltk in /usr/local/lib/python3.9/dist-packages (3.8.1)\n",
            "Requirement already satisfied: tqdm in /usr/local/lib/python3.9/dist-packages (from nltk) (4.65.0)\n",
            "Requirement already satisfied: joblib in /usr/local/lib/python3.9/dist-packages (from nltk) (1.1.1)\n",
            "Requirement already satisfied: click in /usr/local/lib/python3.9/dist-packages (from nltk) (8.1.3)\n",
            "Requirement already satisfied: regex>=2021.8.3 in /usr/local/lib/python3.9/dist-packages (from nltk) (2022.10.31)\n"
          ]
        }
      ],
      "source": [
        "!pip install nltk"
      ]
    },
    {
      "cell_type": "code",
      "execution_count": 9,
      "metadata": {
        "colab": {
          "base_uri": "https://localhost:8080/"
        },
        "id": "aT0_UOi7inbx",
        "outputId": "11740a34-e0a3-46b4-c046-c66080a701eb"
      },
      "outputs": [
        {
          "output_type": "stream",
          "name": "stdout",
          "text": [
            "Drive already mounted at /content/drive; to attempt to forcibly remount, call drive.mount(\"/content/drive\", force_remount=True).\n"
          ]
        }
      ],
      "source": [
        "from google.colab import drive\n",
        "drive.mount('/content/drive')"
      ]
    },
    {
      "cell_type": "code",
      "execution_count": 10,
      "metadata": {
        "colab": {
          "base_uri": "https://localhost:8080/"
        },
        "id": "1MoAAactnQ1p",
        "outputId": "34156228-16ba-4e70-c2ff-0f1cb74c5691"
      },
      "outputs": [
        {
          "output_type": "stream",
          "name": "stderr",
          "text": [
            "[nltk_data] Downloading package punkt to /root/nltk_data...\n",
            "[nltk_data]   Package punkt is already up-to-date!\n",
            "[nltk_data] Downloading package stopwords to /root/nltk_data...\n",
            "[nltk_data]   Package stopwords is already up-to-date!\n"
          ]
        }
      ],
      "source": [
        "import os\n",
        "os.chdir(\"/content/drive/My Drive/NitroNLP/Hackaton\")\n",
        "import math\n",
        "import time\n",
        "import numpy as np\n",
        "import pandas as pd\n",
        "import matplotlib.pyplot as plt\n",
        "import nltk\n",
        "nltk.download('punkt')\n",
        "from nltk.tokenize import TweetTokenizer\n",
        "tweet_tokenizer = TweetTokenizer(strip_handles=True, reduce_len=True)\n",
        "import re\n",
        "import string\n",
        "nltk.download('stopwords')\n",
        "from nltk.corpus import stopwords\n",
        "from nltk.stem import SnowballStemmer\n",
        "\n",
        "stemmer = SnowballStemmer(language='romanian') # This one has support for Romanian too!"
      ]
    },
    {
      "cell_type": "markdown",
      "metadata": {
        "id": "kiPWc1x-8tRW"
      },
      "source": [
        "# Preprocesare"
      ]
    },
    {
      "cell_type": "code",
      "execution_count": 11,
      "metadata": {
        "colab": {
          "base_uri": "https://localhost:8080/"
        },
        "id": "8TN_SUCo-9sC",
        "outputId": "74530a0f-dbe2-4c95-fd6f-20b80c54f9ac"
      },
      "outputs": [
        {
          "output_type": "stream",
          "name": "stderr",
          "text": [
            "WARNING:jax._src.xla_bridge:No GPU/TPU found, falling back to CPU. (Set TF_CPP_MIN_LOG_LEVEL=0 and rerun for more info.)\n"
          ]
        },
        {
          "output_type": "execute_result",
          "data": {
            "text/plain": [
              "Array([ 0, 19], dtype=uint32)"
            ]
          },
          "metadata": {},
          "execution_count": 11
        }
      ],
      "source": [
        "seed = 19\n",
        "\n",
        "\n",
        "import numpy as np\n",
        "np.random.seed(seed)\n",
        "np.random.RandomState(seed)\n",
        "\n",
        "import random\n",
        "random.seed(seed)\n",
        "\n",
        "import torch\n",
        "torch.manual_seed(seed)\n",
        "torch.use_deterministic_algorithms(True)\n",
        "\n",
        "import tensorflow as tf\n",
        "tf.random.set_seed(seed)\n",
        "\n",
        "import jax\n",
        "jax.random.PRNGKey(seed)"
      ]
    },
    {
      "cell_type": "code",
      "execution_count": 12,
      "metadata": {
        "id": "WE4ZLLZH9Mk8"
      },
      "outputs": [],
      "source": [
        "df = pd.read_csv(\"./train_data.csv\")\n",
        "test_df = pd.read_csv(\"./test_data.csv\")"
      ]
    },
    {
      "cell_type": "code",
      "execution_count": 13,
      "metadata": {
        "id": "YNsd3dt--Evt"
      },
      "outputs": [],
      "source": [
        "def normalize_tokens(tokens):\n",
        "\n",
        "    tokFinal = []\n",
        "    for token in tokens:\n",
        "        if token in string.punctuation:\n",
        "            continue\n",
        "        token = re.sub('ă', 'a', token)\n",
        "        token = re.sub('â', 'a', token)\n",
        "        token = re.sub('î', 'i', token)\n",
        "        token = re.sub('ș', 's', token)\n",
        "        token = re.sub('ț', 't', token)\n",
        "        token = re.sub('\\.', '', token)\n",
        "        if token in stopwords.words(\"romanian\"):\n",
        "            continue\n",
        "        if token == \"\":\n",
        "            continue\n",
        "        token = stemmer.stem(token)\n",
        "        tokFinal.append(token)\n",
        "    # tokFinal = [t for t in tokFinal if t not in string.punctuation]\n",
        "    # tokFinal = [t for t in tokFinal if t not in stopwords.words(\"romanian\")]\n",
        "    # tokFinal = [stemmer.stem(t) for t in tokFinal]\n",
        "    return tokFinal"
      ]
    },
    {
      "cell_type": "code",
      "execution_count": null,
      "metadata": {
        "colab": {
          "base_uri": "https://localhost:8080/",
          "height": 35
        },
        "id": "4vNm-8--mvZB",
        "outputId": "6d708e18-c44b-4250-9c80-34f8c0eae4d0"
      },
      "outputs": [
        {
          "output_type": "execute_result",
          "data": {
            "text/plain": [
              "'înca trecut 28 😃 😃 feric 👍 🌺'"
            ],
            "application/vnd.google.colaboratory.intrinsic+json": {
              "type": "string"
            }
          },
          "metadata": {},
          "execution_count": 8
        }
      ],
      "source": [
        "\" \".join(normalize_tokens(tweet_tokenizer.tokenize(df[\"Text\"][0])))"
      ]
    },
    {
      "cell_type": "code",
      "execution_count": 14,
      "metadata": {
        "id": "2tGHL2UTEC3u"
      },
      "outputs": [],
      "source": [
        "for line in range(len(df[\"Text\"])):\n",
        "    df.loc[line, \"Text\"] = df.loc[line, \"Text\"].lower()\n",
        "    df.loc[line, \"Text\"] = \" \".join(normalize_tokens(tweet_tokenizer.tokenize(df.loc[line, \"Text\"])))\n",
        "\n",
        "for line in range(len(test_df[\"Text\"])):\n",
        "    test_df.loc[line, \"Text\"] = test_df.loc[line, \"Text\"].lower()\n",
        "    test_df.loc[line, \"Text\"] = \" \".join(normalize_tokens(tweet_tokenizer.tokenize(test_df.loc[line, \"Text\"])))"
      ]
    },
    {
      "cell_type": "code",
      "execution_count": null,
      "metadata": {
        "colab": {
          "base_uri": "https://localhost:8080/"
        },
        "id": "JQSE8DI__pt3",
        "outputId": "c5d70fa2-c25f-4ab6-ed75-da6ed0e30d18"
      },
      "outputs": [
        {
          "name": "stdout",
          "output_type": "stream",
          "text": [
            "Din fericire în extaz!Ai dus covoareleeee?? Pune mîna și aspiră tavanul și pereții că doar n-o să stea aspiratorul ăla degeaba. Nu ne batem joc de bani, da!!!Vaiiii, ne-au furat \"Răpirea din serai\"! Bine dreaq că nu avem rembranzi și monezi! Dispar pînă nu o păgubesc de una.pwp!\n",
            "['din', 'feric', 'extaz', 'ai', 'dus', 'covoarelee', 'pun', 'min', 'aspir', 'tavan', 'peret', 'n-o', 'ste', 'aspir', 'degeab', 'nu', 'bat', 'joc', 'ban', 'vai', 'ne-au', 'furat', 'rapir', 'sera', 'bin', 'dreaq', 'rembranz', 'monez', 'dispar', 'pagub', 'unapwp']\n"
          ]
        }
      ],
      "source": []
    },
    {
      "cell_type": "markdown",
      "metadata": {
        "id": "QhIHifsaH4Va"
      },
      "source": [
        "# Antrenare"
      ]
    },
    {
      "cell_type": "code",
      "execution_count": 15,
      "metadata": {
        "id": "65IgIjm3AbXa"
      },
      "outputs": [],
      "source": [
        "train_df = df\n",
        "# val_df = df[19000:20000]\n",
        "\n",
        "from sklearn.feature_extraction.text import CountVectorizer\n",
        "\n",
        "vectorizer = CountVectorizer()\n",
        "vectorizer.fit(train_df[\"Text\"])\n",
        "\n",
        "train_data = vectorizer.transform(train_df[\"Text\"])\n",
        "# val_data = vectorizer.transform(val_df[\"Text\"])\n",
        "test_data = vectorizer.transform(test_df[\"Text\"])"
      ]
    },
    {
      "cell_type": "code",
      "execution_count": 16,
      "metadata": {
        "id": "W9qSSEeUCa6T"
      },
      "outputs": [],
      "source": [
        "from sklearn.preprocessing import StandardScaler\n",
        "\n",
        "scaler = StandardScaler(with_mean=False)\n",
        "scaler.fit(train_data)\n",
        "\n",
        "scaled_x_train = scaler.transform(train_data)\n",
        "# scaled_x_val = scaler.transform(val_data)\n",
        "scaled_x_test = scaler.transform(test_data)"
      ]
    },
    {
      "cell_type": "code",
      "execution_count": 17,
      "metadata": {
        "id": "A9-UiQnLCrw4"
      },
      "outputs": [],
      "source": [
        "from sklearn import svm\n",
        "\n",
        "def svm_classifier(train_data, train_labels, test_data, c):\n",
        "    linear_svm_classifier = svm.SVC(C=c, kernel='sigmoid') # sigmoid\n",
        "    linear_svm_classifier.fit(train_data, train_labels)\n",
        "    predicted_labels_train = linear_svm_classifier.predict(train_data)\n",
        "    predicted_labels_test = linear_svm_classifier.predict(test_data)\n",
        "\n",
        "    return predicted_labels_train, predicted_labels_test\n",
        "\n",
        "def compute_accuracy(gt_labels, predicted_labels):\n",
        "    accuracy = np.sum(predicted_labels == gt_labels) / len(predicted_labels)\n",
        "    return accuracy\n"
      ]
    },
    {
      "cell_type": "code",
      "execution_count": 24,
      "metadata": {
        "id": "PhMLxix9DYVl"
      },
      "outputs": [],
      "source": [
        "predicted_labels_train, predicted_labels_test = svm_classifier(scaled_x_train, train_df[\"Final Labels\"], \\\n",
        "                                                               scaled_x_test, \\\n",
        "                                                               500)"
      ]
    },
    {
      "cell_type": "code",
      "execution_count": null,
      "metadata": {
        "id": "I5p8y6PoczS_"
      },
      "outputs": [],
      "source": [
        "# print(\"Accuracy: \", compute_accuracy(train_df[\"Final Labels\"], predicted_labels_train))\n",
        "# print(\"Accuracy: \", compute_accuracy(val_df[\"Final Labels\"], predicted_labels_test))"
      ]
    },
    {
      "cell_type": "code",
      "execution_count": 25,
      "metadata": {
        "colab": {
          "base_uri": "https://localhost:8080/",
          "height": 215
        },
        "id": "Wqun3OpBODlL",
        "outputId": "c72139a6-f59c-4e71-c283-2f873b3b980a"
      },
      "outputs": [
        {
          "output_type": "execute_result",
          "data": {
            "text/plain": [
              "                 Id\n",
              "              count\n",
              "Label              \n",
              "descriptive     598\n",
              "direct          275\n",
              "non-offensive  2029\n",
              "offensive       217\n",
              "reporting        11"
            ],
            "text/html": [
              "\n",
              "  <div id=\"df-7c2307fe-253e-41dc-9b40-d5f4e8aae2e8\">\n",
              "    <div class=\"colab-df-container\">\n",
              "      <div>\n",
              "<style scoped>\n",
              "    .dataframe tbody tr th:only-of-type {\n",
              "        vertical-align: middle;\n",
              "    }\n",
              "\n",
              "    .dataframe tbody tr th {\n",
              "        vertical-align: top;\n",
              "    }\n",
              "\n",
              "    .dataframe thead tr th {\n",
              "        text-align: left;\n",
              "    }\n",
              "\n",
              "    .dataframe thead tr:last-of-type th {\n",
              "        text-align: right;\n",
              "    }\n",
              "</style>\n",
              "<table border=\"1\" class=\"dataframe\">\n",
              "  <thead>\n",
              "    <tr>\n",
              "      <th></th>\n",
              "      <th>Id</th>\n",
              "    </tr>\n",
              "    <tr>\n",
              "      <th></th>\n",
              "      <th>count</th>\n",
              "    </tr>\n",
              "    <tr>\n",
              "      <th>Label</th>\n",
              "      <th></th>\n",
              "    </tr>\n",
              "  </thead>\n",
              "  <tbody>\n",
              "    <tr>\n",
              "      <th>descriptive</th>\n",
              "      <td>598</td>\n",
              "    </tr>\n",
              "    <tr>\n",
              "      <th>direct</th>\n",
              "      <td>275</td>\n",
              "    </tr>\n",
              "    <tr>\n",
              "      <th>non-offensive</th>\n",
              "      <td>2029</td>\n",
              "    </tr>\n",
              "    <tr>\n",
              "      <th>offensive</th>\n",
              "      <td>217</td>\n",
              "    </tr>\n",
              "    <tr>\n",
              "      <th>reporting</th>\n",
              "      <td>11</td>\n",
              "    </tr>\n",
              "  </tbody>\n",
              "</table>\n",
              "</div>\n",
              "      <button class=\"colab-df-convert\" onclick=\"convertToInteractive('df-7c2307fe-253e-41dc-9b40-d5f4e8aae2e8')\"\n",
              "              title=\"Convert this dataframe to an interactive table.\"\n",
              "              style=\"display:none;\">\n",
              "        \n",
              "  <svg xmlns=\"http://www.w3.org/2000/svg\" height=\"24px\"viewBox=\"0 0 24 24\"\n",
              "       width=\"24px\">\n",
              "    <path d=\"M0 0h24v24H0V0z\" fill=\"none\"/>\n",
              "    <path d=\"M18.56 5.44l.94 2.06.94-2.06 2.06-.94-2.06-.94-.94-2.06-.94 2.06-2.06.94zm-11 1L8.5 8.5l.94-2.06 2.06-.94-2.06-.94L8.5 2.5l-.94 2.06-2.06.94zm10 10l.94 2.06.94-2.06 2.06-.94-2.06-.94-.94-2.06-.94 2.06-2.06.94z\"/><path d=\"M17.41 7.96l-1.37-1.37c-.4-.4-.92-.59-1.43-.59-.52 0-1.04.2-1.43.59L10.3 9.45l-7.72 7.72c-.78.78-.78 2.05 0 2.83L4 21.41c.39.39.9.59 1.41.59.51 0 1.02-.2 1.41-.59l7.78-7.78 2.81-2.81c.8-.78.8-2.07 0-2.86zM5.41 20L4 18.59l7.72-7.72 1.47 1.35L5.41 20z\"/>\n",
              "  </svg>\n",
              "      </button>\n",
              "      \n",
              "  <style>\n",
              "    .colab-df-container {\n",
              "      display:flex;\n",
              "      flex-wrap:wrap;\n",
              "      gap: 12px;\n",
              "    }\n",
              "\n",
              "    .colab-df-convert {\n",
              "      background-color: #E8F0FE;\n",
              "      border: none;\n",
              "      border-radius: 50%;\n",
              "      cursor: pointer;\n",
              "      display: none;\n",
              "      fill: #1967D2;\n",
              "      height: 32px;\n",
              "      padding: 0 0 0 0;\n",
              "      width: 32px;\n",
              "    }\n",
              "\n",
              "    .colab-df-convert:hover {\n",
              "      background-color: #E2EBFA;\n",
              "      box-shadow: 0px 1px 2px rgba(60, 64, 67, 0.3), 0px 1px 3px 1px rgba(60, 64, 67, 0.15);\n",
              "      fill: #174EA6;\n",
              "    }\n",
              "\n",
              "    [theme=dark] .colab-df-convert {\n",
              "      background-color: #3B4455;\n",
              "      fill: #D2E3FC;\n",
              "    }\n",
              "\n",
              "    [theme=dark] .colab-df-convert:hover {\n",
              "      background-color: #434B5C;\n",
              "      box-shadow: 0px 1px 3px 1px rgba(0, 0, 0, 0.15);\n",
              "      filter: drop-shadow(0px 1px 2px rgba(0, 0, 0, 0.3));\n",
              "      fill: #FFFFFF;\n",
              "    }\n",
              "  </style>\n",
              "\n",
              "      <script>\n",
              "        const buttonEl =\n",
              "          document.querySelector('#df-7c2307fe-253e-41dc-9b40-d5f4e8aae2e8 button.colab-df-convert');\n",
              "        buttonEl.style.display =\n",
              "          google.colab.kernel.accessAllowed ? 'block' : 'none';\n",
              "\n",
              "        async function convertToInteractive(key) {\n",
              "          const element = document.querySelector('#df-7c2307fe-253e-41dc-9b40-d5f4e8aae2e8');\n",
              "          const dataTable =\n",
              "            await google.colab.kernel.invokeFunction('convertToInteractive',\n",
              "                                                     [key], {});\n",
              "          if (!dataTable) return;\n",
              "\n",
              "          const docLinkHtml = 'Like what you see? Visit the ' +\n",
              "            '<a target=\"_blank\" href=https://colab.research.google.com/notebooks/data_table.ipynb>data table notebook</a>'\n",
              "            + ' to learn more about interactive tables.';\n",
              "          element.innerHTML = '';\n",
              "          dataTable['output_type'] = 'display_data';\n",
              "          await google.colab.output.renderOutput(dataTable, element);\n",
              "          const docLink = document.createElement('div');\n",
              "          docLink.innerHTML = docLinkHtml;\n",
              "          element.appendChild(docLink);\n",
              "        }\n",
              "      </script>\n",
              "    </div>\n",
              "  </div>\n",
              "  "
            ]
          },
          "metadata": {},
          "execution_count": 25
        }
      ],
      "source": [
        "lista1 = list(range(len(predicted_labels_test)))\n",
        "\n",
        "d = {'Id': lista1, 'Label': predicted_labels_test}\n",
        "sub = pd.DataFrame(data=d)\n",
        "sub.to_csv(\"./C75.csv\", index=False)\n",
        "\n",
        "sub.groupby('Label').agg(['count'])\n"
      ]
    }
  ],
  "metadata": {
    "colab": {
      "provenance": [],
      "collapsed_sections": [
        "si8wtdS_g0nd"
      ],
      "include_colab_link": true
    },
    "kernelspec": {
      "display_name": "Python 3",
      "name": "python3"
    },
    "language_info": {
      "name": "python"
    }
  },
  "nbformat": 4,
  "nbformat_minor": 0
}