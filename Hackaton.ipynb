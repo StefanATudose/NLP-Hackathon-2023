{
  "nbformat": 4,
  "nbformat_minor": 0,
  "metadata": {
    "colab": {
      "provenance": [],
      "include_colab_link": true
    },
    "kernelspec": {
      "name": "python3",
      "display_name": "Python 3"
    },
    "language_info": {
      "name": "python"
    }
  },
  "cells": [
    {
      "cell_type": "markdown",
      "metadata": {
        "id": "view-in-github",
        "colab_type": "text"
      },
      "source": [
        "<a href=\"https://colab.research.google.com/github/StefanATudose/NLP-Hackathon-2023/blob/main/Hackaton.ipynb\" target=\"_parent\"><img src=\"https://colab.research.google.com/assets/colab-badge.svg\" alt=\"Open In Colab\"/></a>"
      ]
    },
    {
      "cell_type": "markdown",
      "source": [
        "# Setup"
      ],
      "metadata": {
        "id": "si8wtdS_g0nd"
      }
    },
    {
      "cell_type": "code",
      "source": [
        "from google.colab import drive\n",
        "drive.mount('/content/drive')"
      ],
      "metadata": {
        "colab": {
          "base_uri": "https://localhost:8080/"
        },
        "id": "aT0_UOi7inbx",
        "outputId": "1f8329ec-2a3f-47bd-ad90-d837169b14af"
      },
      "execution_count": null,
      "outputs": [
        {
          "output_type": "stream",
          "name": "stdout",
          "text": [
            "Drive already mounted at /content/drive; to attempt to forcibly remount, call drive.mount(\"/content/drive\", force_remount=True).\n"
          ]
        }
      ]
    },
    {
      "cell_type": "code",
      "source": [
        "import os\n",
        "os.chdir(\"/content/drive/My Drive/NitroNLP/Hackaton\")\n",
        "import math\n",
        "import time\n",
        "import numpy as np\n",
        "import pandas as pd\n",
        "import matplotlib.pyplot as plt"
      ],
      "metadata": {
        "id": "1MoAAactnQ1p"
      },
      "execution_count": null,
      "outputs": []
    },
    {
      "cell_type": "markdown",
      "source": [
        "# Preprocesare"
      ],
      "metadata": {
        "id": "kiPWc1x-8tRW"
      }
    },
    {
      "cell_type": "code",
      "source": [
        "seed = 19\n",
        "\n",
        "\n",
        "import numpy as np\n",
        "np.random.seed(seed)\n",
        "np.random.RandomState(seed)\n",
        "\n",
        "import random\n",
        "random.seed(seed)\n",
        "\n",
        "import torch\n",
        "torch.manual_seed(seed)\n",
        "torch.use_deterministic_algorithms(True)\n",
        "\n",
        "import tensorflow as tf\n",
        "tf.random.set_seed(seed)\n",
        "\n",
        "import jax\n",
        "jax.random.PRNGKey(seed)"
      ],
      "metadata": {
        "id": "8TN_SUCo-9sC",
        "colab": {
          "base_uri": "https://localhost:8080/"
        },
        "outputId": "fae9fd93-1f06-4bbb-81c9-def36f833170"
      },
      "execution_count": null,
      "outputs": [
        {
          "output_type": "execute_result",
          "data": {
            "text/plain": [
              "Array([ 0, 19], dtype=uint32)"
            ]
          },
          "metadata": {},
          "execution_count": 64
        }
      ]
    },
    {
      "cell_type": "code",
      "source": [
        "df = pd.read_csv(\"./train_data.csv\")\n",
        "test_df = pd.read_csv(\"./test_data.csv\")\n",
        "\n",
        "train_df = df[:9000]\n",
        "#val_df = df[9000:]"
      ],
      "metadata": {
        "id": "WE4ZLLZH9Mk8"
      },
      "execution_count": null,
      "outputs": []
    },
    {
      "cell_type": "code",
      "source": [
        "train_df.count"
      ],
      "metadata": {
        "colab": {
          "base_uri": "https://localhost:8080/"
        },
        "id": "PFlqIUq9B27i",
        "outputId": "9d03cc20-297c-4169-fee4-70539b4ac5b2"
      },
      "execution_count": null,
      "outputs": [
        {
          "output_type": "execute_result",
          "data": {
            "text/plain": [
              "<bound method DataFrame.count of                                                     Text   Final Labels     Id\n",
              "0      @CorinaTomescu05 Încă nu ...dar am trecut prin...  non-offensive      0\n",
              "1                       @emosaphicbitch sau rosu ca mine  non-offensive      1\n",
              "2      @DanaMinodora Ce frumoasa ești.. Arăți foarte ...  non-offensive      2\n",
              "3      Din fericire în extaz!Ai dus covoareleeee?? Pu...      offensive      3\n",
              "4      cand aveam vreo 5 ani credeam ca romana e sing...  non-offensive      4\n",
              "...                                                  ...            ...    ...\n",
              "39003  @violetAndro @CorinaCg3 Așa e, știu atâtea exe...  non-offensive  39003\n",
              "39004  Directorul medical SAJ Galați, despre dispecer...  non-offensive  39004\n",
              "39005  Au \"invatat\" prostii de balta de la Satan ce e...  non-offensive  39005\n",
              "39006  @_seriosul_ E o parte de adevar. Dar pana la u...  non-offensive  39006\n",
              "39007  @libertatea Să avem răbdare, să vedem ce spune...      offensive  39007\n",
              "\n",
              "[39008 rows x 3 columns]>"
            ]
          },
          "metadata": {},
          "execution_count": 66
        }
      ]
    },
    {
      "cell_type": "code",
      "source": [
        "from sklearn.feature_extraction.text import CountVectorizer\n",
        "\n",
        "vectorizer = CountVectorizer()\n",
        "vectorizer.fit(train_df[\"Text\"])\n",
        "\n",
        "train_data = vectorizer.transform(train_df[\"Text\"])\n",
        "#val_data = vectorizer.transform(val_df[\"Text\"])\n",
        "test_data = vectorizer.transform(test_df[\"Text\"])"
      ],
      "metadata": {
        "id": "65IgIjm3AbXa"
      },
      "execution_count": null,
      "outputs": []
    },
    {
      "cell_type": "code",
      "source": [
        "from sklearn.preprocessing import StandardScaler\n",
        "\n",
        "scaler = StandardScaler(with_mean=False)\n",
        "scaler.fit(train_data)\n",
        "\n",
        "scaled_x_train = scaler.transform(train_data)\n",
        "#scaled_x_val = scaler.transform(val_data)\n",
        "scaled_x_test = scaler.transform(test_data)"
      ],
      "metadata": {
        "id": "W9qSSEeUCa6T"
      },
      "execution_count": null,
      "outputs": []
    },
    {
      "cell_type": "code",
      "source": [
        "from sklearn import svm\n",
        "\n",
        "def svm_classifier(train_data, train_labels, test_data, c):\n",
        "    linear_svm_classifier = svm.SVC(C=c, kernel='sigmoid') # sigmoid\n",
        "    linear_svm_classifier.fit(train_data, train_labels)\n",
        "    predicted_labels_train = linear_svm_classifier.predict(train_data)\n",
        "    predicted_labels_test = linear_svm_classifier.predict(test_data)\n",
        "\n",
        "    return predicted_labels_train, predicted_labels_test\n",
        "\n",
        "def compute_accuracy(gt_labels, predicted_labels):\n",
        "    accuracy = np.sum(predicted_labels == gt_labels) / len(predicted_labels)\n",
        "    return accuracy\n"
      ],
      "metadata": {
        "id": "A9-UiQnLCrw4"
      },
      "execution_count": null,
      "outputs": []
    },
    {
      "cell_type": "code",
      "source": [
        "predicted_labels_train, predicted_labels_test = svm_classifier(scaled_x_train, train_df[\"Final Labels\"], \\\n",
        "                                                               scaled_x_test, \\\n",
        "                                                               0.75)\n",
        "#print(\"Accuracy: \", compute_accuracy(val_df[\"Final Labels\"], predicted_labels_test))"
      ],
      "metadata": {
        "id": "PhMLxix9DYVl"
      },
      "execution_count": null,
      "outputs": []
    },
    {
      "cell_type": "code",
      "source": [
        "sub = pd.read_csv(\"./sample_submission.csv\")\n",
        "\n",
        "lista1 = list(range(len(predicted_labels_test)))\n",
        "\n",
        "d = {'Id': lista1, 'Label': predicted_labels_test}\n",
        "sub = pd.DataFrame(data=d)\n",
        "\n",
        "sub.to_csv(\"./sub1.csv\", index=False)\n"
      ],
      "metadata": {
        "id": "Wqun3OpBODlL"
      },
      "execution_count": null,
      "outputs": []
    }
  ]
}